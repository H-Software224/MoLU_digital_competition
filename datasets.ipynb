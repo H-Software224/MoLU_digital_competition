{
 "cells": [
  {
   "metadata": {},
   "cell_type": "markdown",
   "source": "## Importing Libraries",
   "id": "46cfd302e3e4f2b5"
  },
  {
   "cell_type": "code",
   "id": "initial_id",
   "metadata": {
    "collapsed": true,
    "ExecuteTime": {
     "end_time": "2024-07-01T03:58:17.395543Z",
     "start_time": "2024-07-01T03:58:12.879226Z"
    }
   },
   "source": [
    "import os\n",
    "from dotenv import load_dotenv\n",
    "import pandas as pd\n",
    "import librosa\n",
    "import soundfile as sf\n",
    "import IPython.display as ipd\n",
    "\n",
    "# huggingface\n",
    "from huggingface_hub import login\n",
    "from datasets import Audio, Dataset, DatasetDict"
   ],
   "outputs": [],
   "execution_count": 1
  },
  {
   "metadata": {},
   "cell_type": "markdown",
   "source": "## Login to Hugging Face",
   "id": "e78a490bd224b588"
  },
  {
   "metadata": {},
   "cell_type": "code",
   "outputs": [],
   "execution_count": null,
   "source": [
    "load_dotenv()\n",
    "token = os.getenv(\"HUGGINGFACE_TOKEN\")\n",
    "login(\n",
    "    token=token,\n",
    "    add_to_git_credential=True\n",
    ")"
   ],
   "id": "5c7bbcfc9a67e29f"
  },
  {
   "metadata": {},
   "cell_type": "markdown",
   "source": "## Load Datasets",
   "id": "4ea9d6785bbab007"
  },
  {
   "metadata": {
    "ExecuteTime": {
     "end_time": "2024-07-01T03:58:17.467823Z",
     "start_time": "2024-07-01T03:58:17.429700Z"
    }
   },
   "cell_type": "code",
   "source": [
    "# Dataset path\n",
    "train_path = \"/Users/pathfinder/Documents/GitHub/MoLU_digital_competition/data/train\"\n",
    "test_path = \"/Users/pathfinder/Documents/GitHub/MoLU_digital_competition/data/test\"\n",
    "unlabeled_path = \"/Users/pathfinder/Documents/GitHub/MoLU_digital_competition/data/unlabeled_data\""
   ],
   "id": "1ffa8551f525b202",
   "outputs": [],
   "execution_count": 2
  },
  {
   "metadata": {},
   "cell_type": "code",
   "outputs": [],
   "execution_count": null,
   "source": [
    "# Load datasets\n",
    "def load_audio_files(folder_path):\n",
    "    audio_files = os.listdir(folder_path)\n",
    "    audio_dataset = []\n",
    "    for audio_file in audio_files:\n",
    "        if audio_file.endswith(\".ogg\"):\n",
    "            audio_dataset.append({\"audio\": os.path.join(folder_path, audio_file)})\n",
    "    return audio_dataset\n",
    "\n",
    "train_dataset = load_audio_files(train_path)\n",
    "test_dataset = load_audio_files(test_path)\n",
    "unlabeled_dataset = load_audio_files(unlabeled_path)"
   ],
   "id": "8ecffd8f03036180"
  },
  {
   "metadata": {},
   "cell_type": "code",
   "outputs": [],
   "execution_count": null,
   "source": [
    "# Create DatasetDict\n",
    "dataset_dict = DatasetDict({\n",
    "    \"train\": Dataset.from_dict(train_dataset),\n",
    "    \"test\": Dataset.from_dict(test_dataset),\n",
    "    \"unlabeled\": Dataset.from_dict(unlabeled_dataset)\n",
    "})"
   ],
   "id": "14dd38824f8ee976"
  },
  {
   "metadata": {},
   "cell_type": "markdown",
   "source": "## Upload Datasets",
   "id": "8374b5b4b55fb3e3"
  },
  {
   "metadata": {},
   "cell_type": "code",
   "outputs": [],
   "execution_count": null,
   "source": [
    "dataset_dict.push_to_hub(\n",
    "    \"\"\n",
    ")"
   ],
   "id": "47fd46b7c6e55647"
  },
  {
   "metadata": {},
   "cell_type": "markdown",
   "source": "## Analyze Dataset",
   "id": "9ea6877cc3e72cfc"
  },
  {
   "metadata": {
    "ExecuteTime": {
     "end_time": "2024-07-01T03:58:25.447902Z",
     "start_time": "2024-07-01T03:58:17.484810Z"
    }
   },
   "cell_type": "code",
   "source": [
    "def load_audio(file_path, sr=16000):\n",
    "    \"\"\"\n",
    "    Load an audio file using librosa.\n",
    "    \n",
    "    Parameters:\n",
    "    - file_path (str): Path to the audio file.\n",
    "    - sr (int): Sampling rate.\n",
    "    \n",
    "    Returns:\n",
    "    - y (numpy.ndarray): Audio time series.\n",
    "    - sr (int): Sampling rate of y.\n",
    "    \"\"\"\n",
    "    y, sr = librosa.load(file_path, sr=sr)\n",
    "    return y, sr\n",
    "\n",
    "def play_audio(y, sr):\n",
    "    \"\"\"\n",
    "    Play an audio time series.\n",
    "    \n",
    "    Parameters:\n",
    "    - y (numpy.ndarray): Audio time series.\n",
    "    - sr (int): Sampling rate.\n",
    "    \"\"\"\n",
    "    return ipd.Audio(data=y, rate=sr)\n",
    "\n",
    "def get_sample_files(directory, n_samples=5):\n",
    "    \"\"\"\n",
    "    Get a list of sample audio files from the directory.\n",
    "    \n",
    "    Parameters:\n",
    "    - directory (str): Directory containing audio files.\n",
    "    - n_samples (int): Number of sample files to retrieve.\n",
    "    \n",
    "    Returns:\n",
    "    - sample_files (list): List of sample file paths.\n",
    "    \"\"\"\n",
    "    all_files = [os.path.join(directory, f) for f in os.listdir(directory) if f.endswith('.ogg')]\n",
    "    return all_files[:n_samples]\n",
    "\n",
    "# Get sample audio files\n",
    "sample_files = get_sample_files(train_path, n_samples=5)\n",
    "\n",
    "# Load and play each sample file\n",
    "for file_path in sample_files:\n",
    "    y, sr = load_audio(file_path)\n",
    "    print(f\"Playing {file_path}\")\n",
    "    display(play_audio(y, sr))"
   ],
   "id": "a665eda1e9668a82",
   "outputs": [
    {
     "name": "stderr",
     "output_type": "stream",
     "text": [
      "/var/folders/5z/4wt9_jk92c353_d43chrs3hc0000gn/T/ipykernel_6627/3792142661.py:13: UserWarning: PySoundFile failed. Trying audioread instead.\n",
      "  y, sr = librosa.load(file_path, sr=sr)\n",
      "/opt/anaconda3/envs/torch-env/lib/python3.11/site-packages/librosa/core/audio.py:184: FutureWarning: librosa.core.audio.__audioread_load\n",
      "\tDeprecated as of librosa version 0.10.0.\n",
      "\tIt will be removed in librosa version 1.0.\n",
      "  y, sr_native = __audioread_load(path, offset, duration, dtype)\n"
     ]
    },
    {
     "ename": "EOFError",
     "evalue": "",
     "output_type": "error",
     "traceback": [
      "\u001B[0;31m---------------------------------------------------------------------------\u001B[0m",
      "\u001B[0;31mLibsndfileError\u001B[0m                           Traceback (most recent call last)",
      "File \u001B[0;32m/opt/anaconda3/envs/torch-env/lib/python3.11/site-packages/librosa/core/audio.py:176\u001B[0m, in \u001B[0;36mload\u001B[0;34m(path, sr, mono, offset, duration, dtype, res_type)\u001B[0m\n\u001B[1;32m    175\u001B[0m \u001B[38;5;28;01mtry\u001B[39;00m:\n\u001B[0;32m--> 176\u001B[0m     y, sr_native \u001B[38;5;241m=\u001B[39m __soundfile_load(path, offset, duration, dtype)\n\u001B[1;32m    178\u001B[0m \u001B[38;5;28;01mexcept\u001B[39;00m sf\u001B[38;5;241m.\u001B[39mSoundFileRuntimeError \u001B[38;5;28;01mas\u001B[39;00m exc:\n\u001B[1;32m    179\u001B[0m     \u001B[38;5;66;03m# If soundfile failed, try audioread instead\u001B[39;00m\n",
      "File \u001B[0;32m/opt/anaconda3/envs/torch-env/lib/python3.11/site-packages/librosa/core/audio.py:209\u001B[0m, in \u001B[0;36m__soundfile_load\u001B[0;34m(path, offset, duration, dtype)\u001B[0m\n\u001B[1;32m    207\u001B[0m \u001B[38;5;28;01melse\u001B[39;00m:\n\u001B[1;32m    208\u001B[0m     \u001B[38;5;66;03m# Otherwise, create the soundfile object\u001B[39;00m\n\u001B[0;32m--> 209\u001B[0m     context \u001B[38;5;241m=\u001B[39m sf\u001B[38;5;241m.\u001B[39mSoundFile(path)\n\u001B[1;32m    211\u001B[0m \u001B[38;5;28;01mwith\u001B[39;00m context \u001B[38;5;28;01mas\u001B[39;00m sf_desc:\n",
      "File \u001B[0;32m/opt/anaconda3/envs/torch-env/lib/python3.11/site-packages/soundfile.py:658\u001B[0m, in \u001B[0;36mSoundFile.__init__\u001B[0;34m(self, file, mode, samplerate, channels, subtype, endian, format, closefd)\u001B[0m\n\u001B[1;32m    656\u001B[0m \u001B[38;5;28mself\u001B[39m\u001B[38;5;241m.\u001B[39m_info \u001B[38;5;241m=\u001B[39m _create_info_struct(file, mode, samplerate, channels,\n\u001B[1;32m    657\u001B[0m                                  \u001B[38;5;28mformat\u001B[39m, subtype, endian)\n\u001B[0;32m--> 658\u001B[0m \u001B[38;5;28mself\u001B[39m\u001B[38;5;241m.\u001B[39m_file \u001B[38;5;241m=\u001B[39m \u001B[38;5;28mself\u001B[39m\u001B[38;5;241m.\u001B[39m_open(file, mode_int, closefd)\n\u001B[1;32m    659\u001B[0m \u001B[38;5;28;01mif\u001B[39;00m \u001B[38;5;28mset\u001B[39m(mode)\u001B[38;5;241m.\u001B[39missuperset(\u001B[38;5;124m'\u001B[39m\u001B[38;5;124mr+\u001B[39m\u001B[38;5;124m'\u001B[39m) \u001B[38;5;129;01mand\u001B[39;00m \u001B[38;5;28mself\u001B[39m\u001B[38;5;241m.\u001B[39mseekable():\n\u001B[1;32m    660\u001B[0m     \u001B[38;5;66;03m# Move write position to 0 (like in Python file objects)\u001B[39;00m\n",
      "File \u001B[0;32m/opt/anaconda3/envs/torch-env/lib/python3.11/site-packages/soundfile.py:1216\u001B[0m, in \u001B[0;36mSoundFile._open\u001B[0;34m(self, file, mode_int, closefd)\u001B[0m\n\u001B[1;32m   1215\u001B[0m     err \u001B[38;5;241m=\u001B[39m _snd\u001B[38;5;241m.\u001B[39msf_error(file_ptr)\n\u001B[0;32m-> 1216\u001B[0m     \u001B[38;5;28;01mraise\u001B[39;00m LibsndfileError(err, prefix\u001B[38;5;241m=\u001B[39m\u001B[38;5;124m\"\u001B[39m\u001B[38;5;124mError opening \u001B[39m\u001B[38;5;132;01m{0!r}\u001B[39;00m\u001B[38;5;124m: \u001B[39m\u001B[38;5;124m\"\u001B[39m\u001B[38;5;241m.\u001B[39mformat(\u001B[38;5;28mself\u001B[39m\u001B[38;5;241m.\u001B[39mname))\n\u001B[1;32m   1217\u001B[0m \u001B[38;5;28;01mif\u001B[39;00m mode_int \u001B[38;5;241m==\u001B[39m _snd\u001B[38;5;241m.\u001B[39mSFM_WRITE:\n\u001B[1;32m   1218\u001B[0m     \u001B[38;5;66;03m# Due to a bug in libsndfile version <= 1.0.25, frames != 0\u001B[39;00m\n\u001B[1;32m   1219\u001B[0m     \u001B[38;5;66;03m# when opening a named pipe in SFM_WRITE mode.\u001B[39;00m\n\u001B[1;32m   1220\u001B[0m     \u001B[38;5;66;03m# See http://github.com/erikd/libsndfile/issues/77.\u001B[39;00m\n",
      "\u001B[0;31mLibsndfileError\u001B[0m: Error opening '/Users/pathfinder/Documents/GitHub/MoLU_digital_competition/data/train/PKBLZAUU.ogg': Format not recognised.",
      "\nDuring handling of the above exception, another exception occurred:\n",
      "\u001B[0;31mEOFError\u001B[0m                                  Traceback (most recent call last)",
      "Cell \u001B[0;32mIn[3], line 45\u001B[0m\n\u001B[1;32m     43\u001B[0m \u001B[38;5;66;03m# Load and play each sample file\u001B[39;00m\n\u001B[1;32m     44\u001B[0m \u001B[38;5;28;01mfor\u001B[39;00m file_path \u001B[38;5;129;01min\u001B[39;00m sample_files:\n\u001B[0;32m---> 45\u001B[0m     y, sr \u001B[38;5;241m=\u001B[39m load_audio(file_path)\n\u001B[1;32m     46\u001B[0m     \u001B[38;5;28mprint\u001B[39m(\u001B[38;5;124mf\u001B[39m\u001B[38;5;124m\"\u001B[39m\u001B[38;5;124mPlaying \u001B[39m\u001B[38;5;132;01m{\u001B[39;00mfile_path\u001B[38;5;132;01m}\u001B[39;00m\u001B[38;5;124m\"\u001B[39m)\n\u001B[1;32m     47\u001B[0m     display(play_audio(y, sr))\n",
      "Cell \u001B[0;32mIn[3], line 13\u001B[0m, in \u001B[0;36mload_audio\u001B[0;34m(file_path, sr)\u001B[0m\n\u001B[1;32m      1\u001B[0m \u001B[38;5;28;01mdef\u001B[39;00m \u001B[38;5;21mload_audio\u001B[39m(file_path, sr\u001B[38;5;241m=\u001B[39m\u001B[38;5;241m16000\u001B[39m):\n\u001B[1;32m      2\u001B[0m \u001B[38;5;250m    \u001B[39m\u001B[38;5;124;03m\"\"\"\u001B[39;00m\n\u001B[1;32m      3\u001B[0m \u001B[38;5;124;03m    Load an audio file using librosa.\u001B[39;00m\n\u001B[1;32m      4\u001B[0m \u001B[38;5;124;03m    \u001B[39;00m\n\u001B[0;32m   (...)\u001B[0m\n\u001B[1;32m     11\u001B[0m \u001B[38;5;124;03m    - sr (int): Sampling rate of y.\u001B[39;00m\n\u001B[1;32m     12\u001B[0m \u001B[38;5;124;03m    \"\"\"\u001B[39;00m\n\u001B[0;32m---> 13\u001B[0m     y, sr \u001B[38;5;241m=\u001B[39m librosa\u001B[38;5;241m.\u001B[39mload(file_path, sr\u001B[38;5;241m=\u001B[39msr)\n\u001B[1;32m     14\u001B[0m     \u001B[38;5;28;01mreturn\u001B[39;00m y, sr\n",
      "File \u001B[0;32m/opt/anaconda3/envs/torch-env/lib/python3.11/site-packages/librosa/core/audio.py:184\u001B[0m, in \u001B[0;36mload\u001B[0;34m(path, sr, mono, offset, duration, dtype, res_type)\u001B[0m\n\u001B[1;32m    180\u001B[0m \u001B[38;5;28;01mif\u001B[39;00m \u001B[38;5;28misinstance\u001B[39m(path, (\u001B[38;5;28mstr\u001B[39m, pathlib\u001B[38;5;241m.\u001B[39mPurePath)):\n\u001B[1;32m    181\u001B[0m     warnings\u001B[38;5;241m.\u001B[39mwarn(\n\u001B[1;32m    182\u001B[0m         \u001B[38;5;124m\"\u001B[39m\u001B[38;5;124mPySoundFile failed. Trying audioread instead.\u001B[39m\u001B[38;5;124m\"\u001B[39m, stacklevel\u001B[38;5;241m=\u001B[39m\u001B[38;5;241m2\u001B[39m\n\u001B[1;32m    183\u001B[0m     )\n\u001B[0;32m--> 184\u001B[0m     y, sr_native \u001B[38;5;241m=\u001B[39m __audioread_load(path, offset, duration, dtype)\n\u001B[1;32m    185\u001B[0m \u001B[38;5;28;01melse\u001B[39;00m:\n\u001B[1;32m    186\u001B[0m     \u001B[38;5;28;01mraise\u001B[39;00m exc\n",
      "File \u001B[0;32m/opt/anaconda3/envs/torch-env/lib/python3.11/site-packages/decorator.py:232\u001B[0m, in \u001B[0;36mdecorate.<locals>.fun\u001B[0;34m(*args, **kw)\u001B[0m\n\u001B[1;32m    230\u001B[0m \u001B[38;5;28;01mif\u001B[39;00m \u001B[38;5;129;01mnot\u001B[39;00m kwsyntax:\n\u001B[1;32m    231\u001B[0m     args, kw \u001B[38;5;241m=\u001B[39m fix(args, kw, sig)\n\u001B[0;32m--> 232\u001B[0m \u001B[38;5;28;01mreturn\u001B[39;00m caller(func, \u001B[38;5;241m*\u001B[39m(extras \u001B[38;5;241m+\u001B[39m args), \u001B[38;5;241m*\u001B[39m\u001B[38;5;241m*\u001B[39mkw)\n",
      "File \u001B[0;32m/opt/anaconda3/envs/torch-env/lib/python3.11/site-packages/librosa/util/decorators.py:59\u001B[0m, in \u001B[0;36mdeprecated.<locals>.__wrapper\u001B[0;34m(func, *args, **kwargs)\u001B[0m\n\u001B[1;32m     50\u001B[0m \u001B[38;5;250m\u001B[39m\u001B[38;5;124;03m\"\"\"Warn the user, and then proceed.\"\"\"\u001B[39;00m\n\u001B[1;32m     51\u001B[0m warnings\u001B[38;5;241m.\u001B[39mwarn(\n\u001B[1;32m     52\u001B[0m     \u001B[38;5;124m\"\u001B[39m\u001B[38;5;132;01m{:s}\u001B[39;00m\u001B[38;5;124m.\u001B[39m\u001B[38;5;132;01m{:s}\u001B[39;00m\u001B[38;5;130;01m\\n\u001B[39;00m\u001B[38;5;130;01m\\t\u001B[39;00m\u001B[38;5;124mDeprecated as of librosa version \u001B[39m\u001B[38;5;132;01m{:s}\u001B[39;00m\u001B[38;5;124m.\u001B[39m\u001B[38;5;124m\"\u001B[39m\n\u001B[1;32m     53\u001B[0m     \u001B[38;5;124m\"\u001B[39m\u001B[38;5;130;01m\\n\u001B[39;00m\u001B[38;5;130;01m\\t\u001B[39;00m\u001B[38;5;124mIt will be removed in librosa version \u001B[39m\u001B[38;5;132;01m{:s}\u001B[39;00m\u001B[38;5;124m.\u001B[39m\u001B[38;5;124m\"\u001B[39m\u001B[38;5;241m.\u001B[39mformat(\n\u001B[0;32m   (...)\u001B[0m\n\u001B[1;32m     57\u001B[0m     stacklevel\u001B[38;5;241m=\u001B[39m\u001B[38;5;241m3\u001B[39m,  \u001B[38;5;66;03m# Would be 2, but the decorator adds a level\u001B[39;00m\n\u001B[1;32m     58\u001B[0m )\n\u001B[0;32m---> 59\u001B[0m \u001B[38;5;28;01mreturn\u001B[39;00m func(\u001B[38;5;241m*\u001B[39margs, \u001B[38;5;241m*\u001B[39m\u001B[38;5;241m*\u001B[39mkwargs)\n",
      "File \u001B[0;32m/opt/anaconda3/envs/torch-env/lib/python3.11/site-packages/librosa/core/audio.py:240\u001B[0m, in \u001B[0;36m__audioread_load\u001B[0;34m(path, offset, duration, dtype)\u001B[0m\n\u001B[1;32m    237\u001B[0m     reader \u001B[38;5;241m=\u001B[39m path\n\u001B[1;32m    238\u001B[0m \u001B[38;5;28;01melse\u001B[39;00m:\n\u001B[1;32m    239\u001B[0m     \u001B[38;5;66;03m# If the input was not an audioread object, try to open it\u001B[39;00m\n\u001B[0;32m--> 240\u001B[0m     reader \u001B[38;5;241m=\u001B[39m audioread\u001B[38;5;241m.\u001B[39maudio_open(path)\n\u001B[1;32m    242\u001B[0m \u001B[38;5;28;01mwith\u001B[39;00m reader \u001B[38;5;28;01mas\u001B[39;00m input_file:\n\u001B[1;32m    243\u001B[0m     sr_native \u001B[38;5;241m=\u001B[39m input_file\u001B[38;5;241m.\u001B[39msamplerate\n",
      "File \u001B[0;32m/opt/anaconda3/envs/torch-env/lib/python3.11/site-packages/audioread/__init__.py:127\u001B[0m, in \u001B[0;36maudio_open\u001B[0;34m(path, backends)\u001B[0m\n\u001B[1;32m    125\u001B[0m \u001B[38;5;28;01mfor\u001B[39;00m BackendClass \u001B[38;5;129;01min\u001B[39;00m backends:\n\u001B[1;32m    126\u001B[0m     \u001B[38;5;28;01mtry\u001B[39;00m:\n\u001B[0;32m--> 127\u001B[0m         \u001B[38;5;28;01mreturn\u001B[39;00m BackendClass(path)\n\u001B[1;32m    128\u001B[0m     \u001B[38;5;28;01mexcept\u001B[39;00m DecodeError:\n\u001B[1;32m    129\u001B[0m         \u001B[38;5;28;01mpass\u001B[39;00m\n",
      "File \u001B[0;32m/opt/anaconda3/envs/torch-env/lib/python3.11/site-packages/audioread/rawread.py:62\u001B[0m, in \u001B[0;36mRawAudioFile.__init__\u001B[0;34m(self, filename)\u001B[0m\n\u001B[1;32m     59\u001B[0m \u001B[38;5;28mself\u001B[39m\u001B[38;5;241m.\u001B[39m_fh \u001B[38;5;241m=\u001B[39m \u001B[38;5;28mopen\u001B[39m(filename, \u001B[38;5;124m'\u001B[39m\u001B[38;5;124mrb\u001B[39m\u001B[38;5;124m'\u001B[39m)\n\u001B[1;32m     61\u001B[0m \u001B[38;5;28;01mtry\u001B[39;00m:\n\u001B[0;32m---> 62\u001B[0m     \u001B[38;5;28mself\u001B[39m\u001B[38;5;241m.\u001B[39m_file \u001B[38;5;241m=\u001B[39m aifc\u001B[38;5;241m.\u001B[39mopen(\u001B[38;5;28mself\u001B[39m\u001B[38;5;241m.\u001B[39m_fh)\n\u001B[1;32m     63\u001B[0m \u001B[38;5;28;01mexcept\u001B[39;00m aifc\u001B[38;5;241m.\u001B[39mError:\n\u001B[1;32m     64\u001B[0m     \u001B[38;5;66;03m# Return to the beginning of the file to try the next reader.\u001B[39;00m\n\u001B[1;32m     65\u001B[0m     \u001B[38;5;28mself\u001B[39m\u001B[38;5;241m.\u001B[39m_fh\u001B[38;5;241m.\u001B[39mseek(\u001B[38;5;241m0\u001B[39m)\n",
      "File \u001B[0;32m/opt/anaconda3/envs/torch-env/lib/python3.11/aifc.py:954\u001B[0m, in \u001B[0;36mopen\u001B[0;34m(f, mode)\u001B[0m\n\u001B[1;32m    952\u001B[0m         mode \u001B[38;5;241m=\u001B[39m \u001B[38;5;124m'\u001B[39m\u001B[38;5;124mrb\u001B[39m\u001B[38;5;124m'\u001B[39m\n\u001B[1;32m    953\u001B[0m \u001B[38;5;28;01mif\u001B[39;00m mode \u001B[38;5;129;01min\u001B[39;00m (\u001B[38;5;124m'\u001B[39m\u001B[38;5;124mr\u001B[39m\u001B[38;5;124m'\u001B[39m, \u001B[38;5;124m'\u001B[39m\u001B[38;5;124mrb\u001B[39m\u001B[38;5;124m'\u001B[39m):\n\u001B[0;32m--> 954\u001B[0m     \u001B[38;5;28;01mreturn\u001B[39;00m Aifc_read(f)\n\u001B[1;32m    955\u001B[0m \u001B[38;5;28;01melif\u001B[39;00m mode \u001B[38;5;129;01min\u001B[39;00m (\u001B[38;5;124m'\u001B[39m\u001B[38;5;124mw\u001B[39m\u001B[38;5;124m'\u001B[39m, \u001B[38;5;124m'\u001B[39m\u001B[38;5;124mwb\u001B[39m\u001B[38;5;124m'\u001B[39m):\n\u001B[1;32m    956\u001B[0m     \u001B[38;5;28;01mreturn\u001B[39;00m Aifc_write(f)\n",
      "File \u001B[0;32m/opt/anaconda3/envs/torch-env/lib/python3.11/aifc.py:364\u001B[0m, in \u001B[0;36mAifc_read.__init__\u001B[0;34m(self, f)\u001B[0m\n\u001B[1;32m    361\u001B[0m         \u001B[38;5;28;01mraise\u001B[39;00m\n\u001B[1;32m    362\u001B[0m \u001B[38;5;28;01melse\u001B[39;00m:\n\u001B[1;32m    363\u001B[0m     \u001B[38;5;66;03m# assume it is an open file object already\u001B[39;00m\n\u001B[0;32m--> 364\u001B[0m     \u001B[38;5;28mself\u001B[39m\u001B[38;5;241m.\u001B[39minitfp(f)\n",
      "File \u001B[0;32m/opt/anaconda3/envs/torch-env/lib/python3.11/aifc.py:320\u001B[0m, in \u001B[0;36mAifc_read.initfp\u001B[0;34m(self, file)\u001B[0m\n\u001B[1;32m    318\u001B[0m \u001B[38;5;28mself\u001B[39m\u001B[38;5;241m.\u001B[39m_soundpos \u001B[38;5;241m=\u001B[39m \u001B[38;5;241m0\u001B[39m\n\u001B[1;32m    319\u001B[0m \u001B[38;5;28mself\u001B[39m\u001B[38;5;241m.\u001B[39m_file \u001B[38;5;241m=\u001B[39m file\n\u001B[0;32m--> 320\u001B[0m chunk \u001B[38;5;241m=\u001B[39m Chunk(file)\n\u001B[1;32m    321\u001B[0m \u001B[38;5;28;01mif\u001B[39;00m chunk\u001B[38;5;241m.\u001B[39mgetname() \u001B[38;5;241m!=\u001B[39m \u001B[38;5;124mb\u001B[39m\u001B[38;5;124m'\u001B[39m\u001B[38;5;124mFORM\u001B[39m\u001B[38;5;124m'\u001B[39m:\n\u001B[1;32m    322\u001B[0m     \u001B[38;5;28;01mraise\u001B[39;00m Error(\u001B[38;5;124m'\u001B[39m\u001B[38;5;124mfile does not start with FORM id\u001B[39m\u001B[38;5;124m'\u001B[39m)\n",
      "File \u001B[0;32m/opt/anaconda3/envs/torch-env/lib/python3.11/chunk.py:67\u001B[0m, in \u001B[0;36mChunk.__init__\u001B[0;34m(self, file, align, bigendian, inclheader)\u001B[0m\n\u001B[1;32m     65\u001B[0m \u001B[38;5;28mself\u001B[39m\u001B[38;5;241m.\u001B[39mchunkname \u001B[38;5;241m=\u001B[39m file\u001B[38;5;241m.\u001B[39mread(\u001B[38;5;241m4\u001B[39m)\n\u001B[1;32m     66\u001B[0m \u001B[38;5;28;01mif\u001B[39;00m \u001B[38;5;28mlen\u001B[39m(\u001B[38;5;28mself\u001B[39m\u001B[38;5;241m.\u001B[39mchunkname) \u001B[38;5;241m<\u001B[39m \u001B[38;5;241m4\u001B[39m:\n\u001B[0;32m---> 67\u001B[0m     \u001B[38;5;28;01mraise\u001B[39;00m \u001B[38;5;167;01mEOFError\u001B[39;00m\n\u001B[1;32m     68\u001B[0m \u001B[38;5;28;01mtry\u001B[39;00m:\n\u001B[1;32m     69\u001B[0m     \u001B[38;5;28mself\u001B[39m\u001B[38;5;241m.\u001B[39mchunksize \u001B[38;5;241m=\u001B[39m struct\u001B[38;5;241m.\u001B[39munpack_from(strflag\u001B[38;5;241m+\u001B[39m\u001B[38;5;124m'\u001B[39m\u001B[38;5;124mL\u001B[39m\u001B[38;5;124m'\u001B[39m, file\u001B[38;5;241m.\u001B[39mread(\u001B[38;5;241m4\u001B[39m))[\u001B[38;5;241m0\u001B[39m]\n",
      "\u001B[0;31mEOFError\u001B[0m: "
     ]
    }
   ],
   "execution_count": 3
  },
  {
   "metadata": {},
   "cell_type": "code",
   "outputs": [],
   "execution_count": null,
   "source": "",
   "id": "5c3617a20676891"
  }
 ],
 "metadata": {
  "kernelspec": {
   "display_name": "Python 3",
   "language": "python",
   "name": "python3"
  },
  "language_info": {
   "codemirror_mode": {
    "name": "ipython",
    "version": 2
   },
   "file_extension": ".py",
   "mimetype": "text/x-python",
   "name": "python",
   "nbconvert_exporter": "python",
   "pygments_lexer": "ipython2",
   "version": "2.7.6"
  }
 },
 "nbformat": 4,
 "nbformat_minor": 5
}
